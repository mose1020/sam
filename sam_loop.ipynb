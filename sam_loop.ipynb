{
 "cells": [
  {
   "attachments": {},
   "cell_type": "markdown",
   "metadata": {},
   "source": [
    "# Import the required libraries"
   ]
  },
  {
   "cell_type": "code",
   "execution_count": 1,
   "metadata": {},
   "outputs": [],
   "source": [
    "from segment_anything import SamAutomaticMaskGenerator, sam_model_registry\n",
    "import cv2\n",
    "import matplotlib.pyplot as plt\n",
    "import numpy as np\n",
    "#import yaml\n",
    "from PIL import Image\n",
    "import glob\n",
    "import os"
   ]
  },
  {
   "attachments": {},
   "cell_type": "markdown",
   "metadata": {},
   "source": [
    "# Config"
   ]
  },
  {
   "cell_type": "code",
   "execution_count": 2,
   "metadata": {},
   "outputs": [],
   "source": [
    "path = 'mini_testdatensatz'\n",
    "min_overlap_percentage = 99"
   ]
  },
  {
   "attachments": {},
   "cell_type": "markdown",
   "metadata": {},
   "source": [
    "# Check the segmentation folder"
   ]
  },
  {
   "cell_type": "code",
   "execution_count": 3,
   "metadata": {},
   "outputs": [],
   "source": [
    "if not os.path.exists(os.path.join(path,'segmentation_images')):\n",
    "    os.mkdir(os.path.join(path,'segmentation_images'))\n",
    "\n",
    "filelist = [ f for f in os.listdir(os.path.join(path,'segmentation_images'))]\n",
    "for f in filelist:\n",
    "    os.remove(os.path.join(path,'segmentation_images', f))"
   ]
  },
  {
   "attachments": {},
   "cell_type": "markdown",
   "metadata": {},
   "source": [
    "# Load the model"
   ]
  },
  {
   "cell_type": "code",
   "execution_count": 4,
   "metadata": {},
   "outputs": [],
   "source": [
    "sam = sam_model_registry[\"default\"](checkpoint=\"sam_vit_h_4b8939.pth\")\n",
    "mask_generator = SamAutomaticMaskGenerator(sam)"
   ]
  },
  {
   "attachments": {},
   "cell_type": "markdown",
   "metadata": {},
   "source": [
    "# Path to the images"
   ]
  },
  {
   "cell_type": "code",
   "execution_count": 5,
   "metadata": {},
   "outputs": [],
   "source": [
    "img_path_list = sorted(glob.glob(path+'/test/*')) # normaly glob.glob(path+'/train/*')"
   ]
  },
  {
   "attachments": {},
   "cell_type": "markdown",
   "metadata": {},
   "source": [
    "# Function for the loop"
   ]
  },
  {
   "cell_type": "code",
   "execution_count": 6,
   "metadata": {},
   "outputs": [],
   "source": [
    "def count_true_values(mask):\n",
    "    return np.sum(mask)"
   ]
  },
  {
   "attachments": {},
   "cell_type": "markdown",
   "metadata": {},
   "source": [
    "# Loop "
   ]
  },
  {
   "cell_type": "code",
   "execution_count": 7,
   "metadata": {},
   "outputs": [],
   "source": [
    "for img_path in img_path_list:\n",
    "    img = cv2.imread(img_path)\n",
    "    img = cv2.cvtColor(img, cv2.COLOR_BGR2RGB)\n",
    "    masks = mask_generator.generate(img)\n",
    "    sorted_masks = sorted(masks, key=(lambda x: x['area']), reverse=True)\n",
    "    board_mask = sorted_masks[1]['segmentation']\n",
    "    inside_masks = []\n",
    "    for i in range(2, len(sorted_masks)):\n",
    "        small_mask = sorted_masks[i]['segmentation']\n",
    "        num_small_mask_true = np.sum(small_mask)\n",
    "        required_overlap = int(num_small_mask_true * min_overlap_percentage / 100)\n",
    "        indices = np.where(small_mask)\n",
    "        num_overlapping_true = np.sum(board_mask[indices])\n",
    "\n",
    "        if num_overlapping_true >= required_overlap:\n",
    "            inside_masks.append(small_mask)\n",
    "    \n",
    "    inside_masks_sorted = sorted(inside_masks, key=count_true_values, reverse=True)\n",
    "    plug_mask = inside_masks_sorted[1]\n",
    "    plug_image = Image.fromarray(plug_mask.astype('uint8') * 255, mode='L')\n",
    "    img_name = img_path.split('/')[-1]\n",
    "    plug_image.save(path+'/segmentation_images/'+img_name)\n",
    "\n"
   ]
  }
 ],
 "metadata": {
  "kernelspec": {
   "display_name": "Python 3",
   "language": "python",
   "name": "python3"
  },
  "language_info": {
   "codemirror_mode": {
    "name": "ipython",
    "version": 3
   },
   "file_extension": ".py",
   "mimetype": "text/x-python",
   "name": "python",
   "nbconvert_exporter": "python",
   "pygments_lexer": "ipython3",
   "version": "3.10.6"
  },
  "orig_nbformat": 4
 },
 "nbformat": 4,
 "nbformat_minor": 2
}
