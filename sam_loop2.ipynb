{
 "cells": [
  {
   "cell_type": "code",
   "execution_count": 2,
   "metadata": {},
   "outputs": [],
   "source": [
    "from segment_anything import SamAutomaticMaskGenerator, sam_model_registry\n",
    "import cv2\n",
    "import numpy as np\n",
    "import csv\n",
    "from PIL import Image\n",
    "import glob\n",
    "import os\n",
    "from skimage import measure\n",
    "from scipy import ndimage\n",
    "from tqdm import tqdm"
   ]
  },
  {
   "cell_type": "code",
   "execution_count": 3,
   "metadata": {},
   "outputs": [],
   "source": [
    "path = 'dataset_2_2023_05_04'\n",
    "device = \"cuda\"\n",
    "min_overlap_percentage = 85\n",
    "default_ratio = 3.5\n",
    "min_pixel = 12000\n",
    "max_pixel = 24000"
   ]
  },
  {
   "cell_type": "code",
   "execution_count": 4,
   "metadata": {},
   "outputs": [],
   "source": [
    "sam = sam_model_registry[\"default\"](checkpoint=\"sam_vit_h_4b8939.pth\")\n",
    "sam.to(device=device)\n",
    "mask_generator = SamAutomaticMaskGenerator(sam)"
   ]
  },
  {
   "cell_type": "code",
   "execution_count": 5,
   "metadata": {},
   "outputs": [],
   "source": [
    "if not os.path.exists(os.path.join(path,'segmentation_images')):\n",
    "    os.mkdir(os.path.join(path,'segmentation_images'))\n",
    "\n",
    "filelist = [ f for f in os.listdir(os.path.join(path,'segmentation_images'))]\n",
    "for f in filelist:\n",
    "    os.remove(os.path.join(path,'segmentation_images', f))"
   ]
  },
  {
   "cell_type": "code",
   "execution_count": 6,
   "metadata": {},
   "outputs": [],
   "source": [
    "img_path_list = sorted(glob.glob(path+'/train/*')) # normaly glob.glob(path+'/train/*')"
   ]
  },
  {
   "cell_type": "code",
   "execution_count": 7,
   "metadata": {},
   "outputs": [],
   "source": [
    "def find_biggest_contiguous_area(array):\n",
    "    labels,_ = ndimage.label(array)\n",
    "    counts = np.bincount(labels.flatten())\n",
    "    max_label = np.argmax(counts[1:]) + 1\n",
    "    region = (labels == max_label)\n",
    "    \n",
    "    return region"
   ]
  },
  {
   "cell_type": "code",
   "execution_count": 8,
   "metadata": {},
   "outputs": [
    {
     "name": "stderr",
     "output_type": "stream",
     "text": [
      "  1%|          | 20/2400 [01:22<2:45:38,  4.18s/it]"
     ]
    }
   ],
   "source": [
    "for img_path in tqdm(img_path_list):\n",
    "    img = cv2.imread(img_path)\n",
    "    img = cv2.cvtColor(img, cv2.COLOR_BGR2RGB)\n",
    "    masks = mask_generator.generate(img)\n",
    "    sorted_masks = sorted(masks, key=(lambda x: x['area']), reverse=True)\n",
    "    ratio_with_mask = [[],[]]\n",
    "\n",
    "    for mask in sorted_masks:\n",
    "        if mask['area'] > min_pixel and mask['area'] < max_pixel:\n",
    "            maybe_plugmask = find_biggest_contiguous_area(mask['segmentation'])\n",
    "            maybe_plugmask = np.array(maybe_plugmask, dtype=np.uint8)\n",
    "            num_labels, labels, stats, centroids = cv2.connectedComponentsWithStats(maybe_plugmask)\n",
    "            bbox = stats[1][:4]\n",
    "            x,y,w,h = bbox\n",
    "            ratio_with_mask[0].append(w/h)\n",
    "            ratio_with_mask[1].append(maybe_plugmask)\n",
    "            # print(\"ratio\",w/h)\n",
    "            # print(\"area\",mask['area'])\n",
    "            # plug_mask = mask['segmentation']\n",
    "            # plug_image = Image.fromarray(plug_mask.astype('uint8') * 255, mode='L')\n",
    "            # display(plug_image)\n",
    "\n",
    "\n",
    "    closest_value = min(ratio_with_mask[0], key=lambda x: abs(x - default_ratio))\n",
    "    closest_index = ratio_with_mask[0].index(closest_value)\n",
    "    plug_mask = ratio_with_mask[1][closest_index]\n",
    "\n",
    "    plug_image = Image.fromarray(plug_mask.astype('uint8') * 255, mode='L')\n",
    "    img_name = img_path.split('/')[-1]\n",
    "    plug_image.save(path+'/segmentation_images/'+img_name)\n"
   ]
  },
  {
   "cell_type": "code",
   "execution_count": null,
   "metadata": {},
   "outputs": [],
   "source": [
    "number = 100\n",
    "\n",
    "mask = Image.open(path+'/segmentation_images/picture_'+str(number)+'.png').convert('1')\n",
    "mask = np.array(mask)\n",
    "\n",
    "img = cv2.imread(path+'/train/picture_'+str(number)+'.png') # normaly /train/ instead of /test/\n",
    "img = cv2.cvtColor(img, cv2.COLOR_BGR2RGB)\n",
    "\n",
    "result_array = np.zeros_like(img)\n",
    "result_array[mask] = img[mask]\n",
    "result_image = Image.fromarray(result_array)\n",
    "display(result_image)\n"
   ]
  }
 ],
 "metadata": {
  "kernelspec": {
   "display_name": "deepl_env",
   "language": "python",
   "name": "python3"
  },
  "language_info": {
   "codemirror_mode": {
    "name": "ipython",
    "version": 3
   },
   "file_extension": ".py",
   "mimetype": "text/x-python",
   "name": "python",
   "nbconvert_exporter": "python",
   "pygments_lexer": "ipython3",
   "version": "3.8.10"
  },
  "orig_nbformat": 4
 },
 "nbformat": 4,
 "nbformat_minor": 2
}
